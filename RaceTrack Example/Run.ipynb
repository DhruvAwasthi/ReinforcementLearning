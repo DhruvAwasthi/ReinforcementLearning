{
 "cells": [
  {
   "cell_type": "code",
   "execution_count": 1,
   "id": "041e25a3",
   "metadata": {},
   "outputs": [],
   "source": [
    "import numpy as np\n",
    "import matplotlib.pyplot as plt\n",
    "from matplotlib import colors"
   ]
  },
  {
   "cell_type": "markdown",
   "id": "e9878a5f",
   "metadata": {},
   "source": [
    "# Generate Racetrack"
   ]
  },
  {
   "cell_type": "code",
   "execution_count": 2,
   "id": "9d777669",
   "metadata": {},
   "outputs": [],
   "source": [
    "import numpy as np\n",
    "\n",
    "class RaceTrack:\n",
    "    def __init__(self):\n",
    "        self.racetrack = np.full((26, 13), -1)\n",
    "\n",
    "    def generate_valid_positions(self):\n",
    "        self.racetrack[6, 6:9] = 0\n",
    "        self.racetrack[7, 6:12] = 0\n",
    "        self.racetrack[8, 6:8] = 0\n",
    "        self.racetrack[8, 9:12] = 0\n",
    "        self.racetrack[9, 6:8] = 0\n",
    "        self.racetrack[9, 9] = 0\n",
    "        self.racetrack[9, 11] = 0\n",
    "        self.racetrack[10, 6:8] = 0\n",
    "        self.racetrack[10, 9:12] = 0\n",
    "        self.racetrack[11, 6:10] = 0\n",
    "        self.racetrack[11, 11] = 0\n",
    "        self.racetrack[12, 6:9] = 0\n",
    "        self.racetrack[13, 6:9] = 0\n",
    "        self.racetrack[14, 6:9] = 0\n",
    "        self.racetrack[15, 6:9] = 0\n",
    "        self.racetrack[16, 6:9] = 0\n",
    "        self.racetrack[17, 6:10] = 0\n",
    "        self.racetrack[18, 7:10] = 0\n",
    "        self.racetrack[19, 7:10] = 0\n",
    "        self.racetrack[20, 7:10] = 0\n",
    "        self.racetrack[21, 7:10] = 0\n",
    "        self.racetrack[22, 7:10] = 0\n",
    "        self.racetrack[23, 7:10] = 0\n",
    "        return self.racetrack\n",
    "\n",
    "    def generate_start_positions(self):\n",
    "        self.racetrack[24, 7] = 1\n",
    "        self.racetrack[24, 8] = 1\n",
    "        self.racetrack[24, 9] = 1\n",
    "        return self.racetrack\n",
    "\n",
    "    def generate_finish_position(self):\n",
    "        self.racetrack[7, 12] = 2\n",
    "        self.racetrack[8, 12] = 2\n",
    "        self.racetrack[9, 12] = 2\n",
    "        self.racetrack[10, 12] = 2\n",
    "        self.racetrack[11, 12] = 2\n",
    "        return self.racetrack\n",
    "\n",
    "    def generate_racetrack(self):\n",
    "        \"\"\"\n",
    "        -1: invalid positions\n",
    "        0: valid positions\n",
    "        1: start positions\n",
    "        2: finish positions\n",
    "        \"\"\"\n",
    "        self.racetrack = self.generate_valid_positions()\n",
    "        self.racetrack = self.generate_start_positions()\n",
    "        self.racetrack = self.generate_finish_position()\n",
    "        return self.racetrack\n",
    "    \n",
    "    def visualize_racetrack(self):\n",
    "        cmap = colors.ListedColormap([\"red\", \"blue\" , \"green\", \"yellow\"])\n",
    "        plt.figure(figsize=(6,6))\n",
    "        plt.pcolor(self.racetrack[::-1], cmap=cmap,edgecolors='k', linewidths=3)\n",
    "        plt.xticks([])\n",
    "        plt.yticks([])\n",
    "        plt.show()\n",
    "        return None"
   ]
  },
  {
   "cell_type": "code",
   "execution_count": 3,
   "id": "1f5e6636",
   "metadata": {},
   "outputs": [
    {
     "data": {
      "text/plain": [
       "array([[-1, -1, -1, -1, -1, -1, -1, -1, -1, -1, -1, -1, -1],\n",
       "       [-1, -1, -1, -1, -1, -1, -1, -1, -1, -1, -1, -1, -1],\n",
       "       [-1, -1, -1, -1, -1, -1, -1, -1, -1, -1, -1, -1, -1],\n",
       "       [-1, -1, -1, -1, -1, -1, -1, -1, -1, -1, -1, -1, -1],\n",
       "       [-1, -1, -1, -1, -1, -1, -1, -1, -1, -1, -1, -1, -1],\n",
       "       [-1, -1, -1, -1, -1, -1, -1, -1, -1, -1, -1, -1, -1],\n",
       "       [-1, -1, -1, -1, -1, -1,  0,  0,  0, -1, -1, -1, -1],\n",
       "       [-1, -1, -1, -1, -1, -1,  0,  0,  0,  0,  0,  0,  2],\n",
       "       [-1, -1, -1, -1, -1, -1,  0,  0, -1,  0,  0,  0,  2],\n",
       "       [-1, -1, -1, -1, -1, -1,  0,  0, -1,  0, -1,  0,  2],\n",
       "       [-1, -1, -1, -1, -1, -1,  0,  0, -1,  0,  0,  0,  2],\n",
       "       [-1, -1, -1, -1, -1, -1,  0,  0,  0,  0, -1,  0,  2],\n",
       "       [-1, -1, -1, -1, -1, -1,  0,  0,  0, -1, -1, -1, -1],\n",
       "       [-1, -1, -1, -1, -1, -1,  0,  0,  0, -1, -1, -1, -1],\n",
       "       [-1, -1, -1, -1, -1, -1,  0,  0,  0, -1, -1, -1, -1],\n",
       "       [-1, -1, -1, -1, -1, -1,  0,  0,  0, -1, -1, -1, -1],\n",
       "       [-1, -1, -1, -1, -1, -1,  0,  0,  0, -1, -1, -1, -1],\n",
       "       [-1, -1, -1, -1, -1, -1,  0,  0,  0,  0, -1, -1, -1],\n",
       "       [-1, -1, -1, -1, -1, -1, -1,  0,  0,  0, -1, -1, -1],\n",
       "       [-1, -1, -1, -1, -1, -1, -1,  0,  0,  0, -1, -1, -1],\n",
       "       [-1, -1, -1, -1, -1, -1, -1,  0,  0,  0, -1, -1, -1],\n",
       "       [-1, -1, -1, -1, -1, -1, -1,  0,  0,  0, -1, -1, -1],\n",
       "       [-1, -1, -1, -1, -1, -1, -1,  0,  0,  0, -1, -1, -1],\n",
       "       [-1, -1, -1, -1, -1, -1, -1,  0,  0,  0, -1, -1, -1],\n",
       "       [-1, -1, -1, -1, -1, -1, -1,  1,  1,  1, -1, -1, -1],\n",
       "       [-1, -1, -1, -1, -1, -1, -1, -1, -1, -1, -1, -1, -1]])"
      ]
     },
     "execution_count": 3,
     "metadata": {},
     "output_type": "execute_result"
    }
   ],
   "source": [
    "RaceTrackObj = RaceTrack()\n",
    "race_track = RaceTrackObj.generate_racetrack()\n",
    "race_track"
   ]
  },
  {
   "cell_type": "markdown",
   "id": "889d07f6",
   "metadata": {},
   "source": [
    "# Visualize Racetrack"
   ]
  },
  {
   "cell_type": "code",
   "execution_count": 4,
   "id": "637e4e84",
   "metadata": {},
   "outputs": [
    {
     "data": {
      "image/png": "[encoded data removed]",
      "text/plain": [
       "<Figure size 600x600 with 1 Axes>"
      ]
     },
     "metadata": {},
     "output_type": "display_data"
    }
   ],
   "source": [
    "RaceTrackObj.visualize_racetrack()"
   ]
  },
  {
   "cell_type": "markdown",
   "id": "4e69ea22",
   "metadata": {},
   "source": [
    "# Generate Environment"
   ]
  },
  {
   "cell_type": "code",
   "execution_count": 5,
   "id": "9ed00fb0",
   "metadata": {},
   "outputs": [],
   "source": [
    "class Env:\n",
    "    def __init__(self, data):\n",
    "        self.data = data\n",
    "        self.step_count = 0\n",
    "\n",
    "    def reset(self):\n",
    "        self.step_count = 0\n",
    "        self.data.episode = {\n",
    "            \"S\": [],\n",
    "            \"A\": [],\n",
    "            \"probs\": [],\n",
    "            \"R\": [None]\n",
    "        }\n",
    "\n",
    "    def select_random_start_position(self):\n",
    "        position_x = 24\n",
    "        random_position_y = np.random.choice([7, 8, 9])\n",
    "        return (position_x, random_position_y)\n",
    "\n",
    "    def start(self):\n",
    "        \"\"\"Makes the velocity of car zero, and selects any one of the starting\n",
    "        positions in green.\n",
    "        \"\"\"\n",
    "        state = np.zeros(4)\n",
    "        state[0], state[1] = self.select_random_start_position()\n",
    "        return state\n",
    "\n",
    "    def get_new_state(self, state, action):\n",
    "        new_state = state.copy()\n",
    "        new_state[0] = state[0] - state[2]\n",
    "        new_state[1] = state[1] + state[3]\n",
    "        new_state[2] = state[2] + action[0]\n",
    "        new_state[3] = state[3] + action[1]\n",
    "        return new_state\n",
    "\n",
    "    def is_finish_line_crossed(self, state, action):\n",
    "        \"\"\"\n",
    "        Returns True if finish line is crosses, False otherwise.\n",
    "        Finish line is crossed when car reaches any of the a, b, c, d, e grid cells.\n",
    "        \"\"\"\n",
    "        new_state = self.get_new_state(state, action)\n",
    "        if (new_state[1] == 12) and (new_state[0] in [7, 8, 9, 10, 11]):\n",
    "            return True\n",
    "        else:\n",
    "            return False\n",
    "\n",
    "    def is_out_of_track(self, state, action):\n",
    "        \"\"\"\n",
    "        Returns True if the car intersects any of the red boundary, False otherwise.\n",
    "        \"\"\"\n",
    "        new_state = self.get_new_state(state, action)\n",
    "        if race_track[new_state[0], new_state[1]] == -1:\n",
    "            return True\n",
    "        else:\n",
    "            return False\n",
    "\n",
    "    def step(self, state, action):\n",
    "        self.data.episode[\"A\"].append(action)\n",
    "        if self.is_finish_line_crossed(state, action):\n",
    "            new_state = self.get_new_state(state, action)\n",
    "            self.data.episode[\"R\"].append(1)\n",
    "            self.data.episode[\"S\"].append(new_state)\n",
    "            self.step_count += 1\n",
    "            return None, new_state\n",
    "\n",
    "        elif self.is_out_of_track(state, action):\n",
    "            new_state = self.start()\n",
    "\n",
    "        else:\n",
    "            new_state = self.get_new_state(state, action)\n",
    "\n",
    "        self.data.episode[\"R\"].append(-1)\n",
    "        self.data.episode[\"S\"].append(new_state)\n",
    "        self.step_count += 1\n",
    "\n",
    "        return -1, new_state"
   ]
  }
 ],
 "metadata": {
  "kernelspec": {
   "display_name": "Python 3 (ipykernel)",
   "language": "python",
   "name": "python3"
  },
  "language_info": {
   "codemirror_mode": {
    "name": "ipython",
    "version": 3
   },
   "file_extension": ".py",
   "mimetype": "text/x-python",
   "name": "python",
   "nbconvert_exporter": "python",
   "pygments_lexer": "ipython3",
   "version": "3.9.13"
  }
 },
 "nbformat": 4,
 "nbformat_minor": 5
}
