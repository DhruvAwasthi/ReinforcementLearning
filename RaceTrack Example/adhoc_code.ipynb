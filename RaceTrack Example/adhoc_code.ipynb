{
 "cells": [
  {
   "cell_type": "code",
   "execution_count": 2,
   "id": "eec40030",
   "metadata": {},
   "outputs": [],
   "source": [
    "import numpy as np"
   ]
  },
  {
   "cell_type": "code",
   "execution_count": 3,
   "id": "ca7a1c64",
   "metadata": {},
   "outputs": [],
   "source": [
    "actions = [\n",
    "    (-1, -1),\n",
    "    (-1, 0),\n",
    "    (-1, 1),\n",
    "    (0, -1),\n",
    "    (0, 0),\n",
    "    (0, 1),\n",
    "    (1, -1),\n",
    "    (1, 0),\n",
    "    (1, 1),\n",
    "]\n"
   ]
  },
  {
   "cell_type": "code",
   "execution_count": 5,
   "id": "29141f9b",
   "metadata": {},
   "outputs": [
    {
     "name": "stdout",
     "output_type": "stream",
     "text": [
      "0 (-1, -1)\n",
      "1 (-1, 0)\n",
      "2 (-1, 1)\n",
      "3 (0, -1)\n",
      "4 (0, 0)\n",
      "5 (0, 1)\n",
      "6 (1, -1)\n",
      "7 (1, 0)\n",
      "8 (1, 1)\n"
     ]
    }
   ],
   "source": [
    "for i, x in zip(range(9), actions):\n",
    "    print(i, x)"
   ]
  },
  {
   "cell_type": "code",
   "execution_count": 6,
   "id": "b042c554",
   "metadata": {},
   "outputs": [
    {
     "data": {
      "text/plain": [
       "array([1, 3])"
      ]
     },
     "execution_count": 6,
     "metadata": {},
     "output_type": "execute_result"
    }
   ],
   "source": [
    "np.add([2,3], [-1, 0])"
   ]
  },
  {
   "cell_type": "code",
   "execution_count": 13,
   "id": "596ad5e6",
   "metadata": {},
   "outputs": [],
   "source": [
    "def get_indices_of_valid_actions(velocity):\n",
    "    indices_of_valid_acts = list()\n",
    "    for idx, possible_action in enumerate(actions):\n",
    "        new_velocity = np.add(velocity, possible_action)\n",
    "        if (new_velocity[0] <= 5 and new_velocity[0] >=0) and (new_velocity[1] <=5 and new_velocity[1] >= 0):\n",
    "            indices_of_valid_acts.append(idx)\n",
    "    indices_of_valid_acts = np.array(indices_of_valid_acts)\n",
    "    return indices_of_valid_acts"
   ]
  },
  {
   "cell_type": "code",
   "execution_count": 14,
   "id": "3a1901f4",
   "metadata": {},
   "outputs": [
    {
     "data": {
      "text/plain": [
       "array([0, 1, 3, 4])"
      ]
     },
     "execution_count": 14,
     "metadata": {},
     "output_type": "execute_result"
    }
   ],
   "source": [
    "get_indices_of_valid_actions([5,5])"
   ]
  },
  {
   "cell_type": "code",
   "execution_count": 23,
   "id": "fe7429e0",
   "metadata": {},
   "outputs": [
    {
     "data": {
      "text/plain": [
       "5"
      ]
     },
     "execution_count": 23,
     "metadata": {},
     "output_type": "execute_result"
    }
   ],
   "source": [
    "def map_to_one_dimension(action):\n",
    "    for idx, possible_action in enumerate(actions):\n",
    "        if list(action) == list(possible_action):\n",
    "            return idx\n",
    "        \n",
    "map_to_one_dimension([0,1])"
   ]
  },
  {
   "cell_type": "code",
   "execution_count": 25,
   "id": "354e2a6f",
   "metadata": {},
   "outputs": [],
   "source": [
    "def map_to_2D(action):\n",
    "    α = [(-1,-1),(-1,0),(0,-1),(-1,1),(0,0),(1,-1),(0,1),(1,0),(1,1)]\n",
    "    return α[action]"
   ]
  },
  {
   "cell_type": "code",
   "execution_count": 26,
   "id": "b39d6db5",
   "metadata": {},
   "outputs": [
    {
     "data": {
      "text/plain": [
       "(-1, 1)"
      ]
     },
     "execution_count": 26,
     "metadata": {},
     "output_type": "execute_result"
    }
   ],
   "source": [
    "map_to_2D(3)"
   ]
  },
  {
   "cell_type": "code",
   "execution_count": null,
   "id": "6073eed5",
   "metadata": {},
   "outputs": [],
   "source": []
  }
 ],
 "metadata": {
  "kernelspec": {
   "display_name": "Python 3 (ipykernel)",
   "language": "python",
   "name": "python3"
  },
  "language_info": {
   "codemirror_mode": {
    "name": "ipython",
    "version": 3
   },
   "file_extension": ".py",
   "mimetype": "text/x-python",
   "name": "python",
   "nbconvert_exporter": "python",
   "pygments_lexer": "ipython3",
   "version": "3.9.13"
  }
 },
 "nbformat": 4,
 "nbformat_minor": 5
}
